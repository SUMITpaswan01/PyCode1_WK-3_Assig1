{
 "cells": [
  {
   "cell_type": "markdown",
   "id": "46cf144f-baf8-4406-b278-f427188434a8",
   "metadata": {},
   "source": [
    "Q1. Create a python program to sort the given list of tuples based on integer value using a \n",
    "lambda function. \n",
    "\n",
    "\n",
    "[('Sachin Tendulkar', 34357), ('Ricky Ponting', 27483), ('Jack Kallis', 25534), ('Virat Kohli', 24936)]"
   ]
  },
  {
   "cell_type": "code",
   "execution_count": 3,
   "id": "0213bf13-7526-427a-aab8-ecce4a54e458",
   "metadata": {},
   "outputs": [
    {
     "name": "stdout",
     "output_type": "stream",
     "text": [
      "[('Virat Kohli', 24936), ('Jack Kallis', 25534), ('Ricky Ponting', 27483), ('Sachin Tendulkar', 34357)]\n"
     ]
    }
   ],
   "source": [
    "l = [('Sachin Tendulkar', 34357), ('Ricky Ponting', 27483), ('Jack Kallis', 25534), ('Virat Kohli', 24936)]\n",
    "print(sorted(l, key = lambda x: (x[1])))"
   ]
  },
  {
   "cell_type": "markdown",
   "id": "ee42a21b-8807-4819-b7f3-c89250668d0d",
   "metadata": {},
   "source": [
    "Q2. Write a Python Program to find the squares of all the numbers in the given list of integers using \n",
    "lambda and map functions.\n",
    "\n",
    "\n",
    "[1, 2, 3, 4, 5, 6, 7, 8, 9, 10]"
   ]
  },
  {
   "cell_type": "code",
   "execution_count": 4,
   "id": "e8eae433-c6c3-45f2-a756-b776221affea",
   "metadata": {},
   "outputs": [
    {
     "data": {
      "text/plain": [
       "[1, 4, 9, 16, 25, 36, 49, 64, 81, 100]"
      ]
     },
     "execution_count": 4,
     "metadata": {},
     "output_type": "execute_result"
    }
   ],
   "source": [
    "l = [1,2,3,4,5,6,7,8,9,10]\n",
    "list(map(lambda i: i**2,l))"
   ]
  },
  {
   "cell_type": "markdown",
   "id": "4627a5a1-0959-4f5e-a2cb-3dadda40958f",
   "metadata": {},
   "source": [
    "Q3. Write a python program to convert the given list of integers into a tuple of strings. Use map and \n",
    "lambda functions\n",
    "\n",
    "\n",
    "Given String: [1, 2, 3, 4, 5, 6, 7, 8, 9, 10]\n",
    "\n",
    "Expected output: ('1', '2', '3', '4', '5', '6', '7', '8', '9', '10')"
   ]
  },
  {
   "cell_type": "code",
   "execution_count": 5,
   "id": "deca6936-2f1a-4504-8135-e06d0dc934dc",
   "metadata": {},
   "outputs": [
    {
     "name": "stdout",
     "output_type": "stream",
     "text": [
      "('1', '2', '3', '4', '5', '6', '7', '8', '9', '10')\n"
     ]
    }
   ],
   "source": [
    "l = [1,2,3,4,5,6,7,8,9,10]\n",
    "tup = list(map(str,l))\n",
    "result = tuple(tup)\n",
    "print(result)"
   ]
  },
  {
   "cell_type": "markdown",
   "id": "f87df74a-1dc7-422a-bfdc-e6db37e5b5fb",
   "metadata": {},
   "source": [
    "Q4.  Write a python program using reduce function to compute the product of a list containing numbers \n",
    "from 1 to 25."
   ]
  },
  {
   "cell_type": "code",
   "execution_count": 6,
   "id": "f876d8e5-d119-498b-a157-3203459b2b38",
   "metadata": {},
   "outputs": [
    {
     "name": "stdout",
     "output_type": "stream",
     "text": [
      "Required list is [1, 2, 3, 4, 5, 6, 7, 8, 9, 10, 11, 12, 13, 14, 15, 16, 17, 18, 19, 20, 21, 22, 23, 24]\n"
     ]
    },
    {
     "data": {
      "text/plain": [
       "620448401733239439360000"
      ]
     },
     "execution_count": 6,
     "metadata": {},
     "output_type": "execute_result"
    }
   ],
   "source": [
    "l= []\n",
    "for i in range(1,25):\n",
    "    l.append(i)\n",
    "#print the list\n",
    "print(\"Required list is\",l)\n",
    "\n",
    "#Calling reduce function\n",
    "from functools import reduce\n",
    "reduce(lambda x,y: x*y, l)"
   ]
  },
  {
   "cell_type": "markdown",
   "id": "f29623b0-8ba3-4014-bb8a-698d4088bf72",
   "metadata": {},
   "source": [
    "Q5. Write a python program to filter the numbers in a given list that are divisible by 2 and 3 using the \n",
    "filter function.\n",
    "\n",
    "\n",
    "[2, 3, 6, 9, 27, 60, 90, 120, 55, 46]"
   ]
  },
  {
   "cell_type": "code",
   "execution_count": 7,
   "id": "5b061ee7-5653-4c9f-9eb8-bc55af0fd5fe",
   "metadata": {},
   "outputs": [
    {
     "data": {
      "text/plain": [
       "[6, 60, 90, 120]"
      ]
     },
     "execution_count": 7,
     "metadata": {},
     "output_type": "execute_result"
    }
   ],
   "source": [
    "l = [2,3,6,9,27,60,90,120,55,46]\n",
    "list(filter(lambda x: x%2 ==0 and x%3 ==0,l))"
   ]
  },
  {
   "cell_type": "markdown",
   "id": "cf16d876-564a-442f-a90c-5b064d5bcb03",
   "metadata": {},
   "source": [
    "Q6. Write a python program to find palindromes in the given list of strings using lambda and filter \n",
    "function.\n",
    "\n",
    "\n",
    "['python', 'php', 'aba', 'radar', 'level']"
   ]
  },
  {
   "cell_type": "code",
   "execution_count": 8,
   "id": "ce395f14-f6a2-4f75-9383-830095fc5560",
   "metadata": {},
   "outputs": [
    {
     "name": "stdout",
     "output_type": "stream",
     "text": [
      "['php', 'aba', 'radar', 'level']\n"
     ]
    }
   ],
   "source": [
    "l =['python','php','aba','radar','level']\n",
    "palin = list(filter(lambda i:(i == \"\".join(reversed(i))),l))\n",
    "print(palin)"
   ]
  }
 ],
 "metadata": {
  "kernelspec": {
   "display_name": "Python 3 (ipykernel)",
   "language": "python",
   "name": "python3"
  },
  "language_info": {
   "codemirror_mode": {
    "name": "ipython",
    "version": 3
   },
   "file_extension": ".py",
   "mimetype": "text/x-python",
   "name": "python",
   "nbconvert_exporter": "python",
   "pygments_lexer": "ipython3",
   "version": "3.10.8"
  }
 },
 "nbformat": 4,
 "nbformat_minor": 5
}
